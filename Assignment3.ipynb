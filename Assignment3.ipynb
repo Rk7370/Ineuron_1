{
 "cells": [
  {
   "cell_type": "markdown",
   "id": "a86ad67d-145a-49d4-b0f2-c23fd2d7d045",
   "metadata": {},
   "source": [
    "Question 1\n",
    "Given an integer array nums of length n and an integer target, find three integers\n",
    "in nums such that the sum is closest to the target.\n",
    "Return the sum of the three integers.\n",
    "\n",
    "You may assume that each input would have exactly one solution.\n",
    "\n",
    "Example 1:\n",
    "Input: nums = [-1,2,1,-4], target = 1\n",
    "Output: 2\n",
    "\n",
    "Explanation: The sum that is closest to the target is 2. (-1 + 2 + 1 = 2)."
   ]
  },
  {
   "cell_type": "code",
   "execution_count": null,
   "id": "0340889a-81ea-45d5-ab5b-0b0ad753612a",
   "metadata": {},
   "outputs": [],
   "source": [
    "def threeSumClosest(nums, target):\n",
    "    nums.sort()\n",
    "    out = 0\n",
    "    res = [10**5 + 1,out]\n",
    "    \n",
    "\n",
    "    for i in range(len(nums)-2):\n",
    "        fix = nums[i]\n",
    "        start = i+1\n",
    "        end = len(nums)-1\n",
    "\n",
    "        while(start<end):\n",
    "            out = fix + nums[start] + nums[end]\n",
    "            abs_distance = abs(target-out)\n",
    "            if(abs_distance<res[0]):\n",
    "                res = [abs_distance,out]                    \n",
    "            if(out>target):\n",
    "                end = end-1\n",
    "            elif(target>out):\n",
    "                start = start + 1\n",
    "            elif(target==out):\n",
    "                return out\n",
    "    return res[1]"
   ]
  },
  {
   "cell_type": "code",
   "execution_count": null,
   "id": "619016db-68f7-4f44-a7e8-2ad16055afe5",
   "metadata": {},
   "outputs": [],
   "source": [
    "threeSumClosest(nums = [-1,2,1,-4], target = 1)"
   ]
  },
  {
   "cell_type": "markdown",
   "id": "5a26a7dc-f9e8-4feb-a04b-1ba517f941ea",
   "metadata": {},
   "source": [
    "Question 2\n",
    "Given an array nums of n integers, return an array of all the unique quadruplets\n",
    "[nums[a], nums[b], nums[c], nums[d]] such that:\n",
    "           ● 0 <= a, b, c, d < n\n",
    "           ● a, b, c, and d are distinct.\n",
    "           ● nums[a] + nums[b] + nums[c] + nums[d] == target\n",
    "\n",
    "You may return the answer in any order.\n",
    "\n",
    "Example 1:\n",
    "Input: nums = [1,0,-1,0,-2,2], target = 0\n",
    "Output: [[-2,-1,1,2],[-2,0,0,2],[-1,0,0,1]]"
   ]
  },
  {
   "cell_type": "code",
   "execution_count": null,
   "id": "9e476ffa-b12f-4861-9f90-19b9115807a6",
   "metadata": {},
   "outputs": [],
   "source": [
    "def fourSum(nums, target):\n",
    "    nums.sort()\n",
    "    res = []\n",
    "\n",
    "    nums.sort()\n",
    "    res = []\n",
    "\n",
    "    for i in range(len(nums)-3):\n",
    "        if(i>0 and nums[i]==nums[i-1]):\n",
    "            continue\n",
    "        for j in range(i+1,len(nums)-2):\n",
    "            if(j>i+1 and nums[j]==nums[j-1]):\n",
    "                continue\n",
    "            start = j+1\n",
    "            end = len(nums)-1\n",
    "            while(start<end):\n",
    "                sum_ = nums[i] + nums[j] + nums[start] + nums[end]\n",
    "                if(sum_>target):\n",
    "                    end = end -1\n",
    "                elif(sum_<target):\n",
    "                    start = start +1\n",
    "                else:\n",
    "                    res.append([nums[i],nums[j],nums[start],nums[end]])\n",
    "                    while(start<end and nums[start]==nums[start+1]):\n",
    "                        start+=1\n",
    "                    while(start<end and nums[end]==nums[end-1]):\n",
    "                        end-=1\n",
    "                    start+=1\n",
    "                    end-=1\n",
    "                    \n",
    "                \n",
    "    return res"
   ]
  },
  {
   "cell_type": "code",
   "execution_count": null,
   "id": "d2feb5db-89e3-4f79-bcd9-ff197bda9729",
   "metadata": {},
   "outputs": [],
   "source": [
    "fourSum([1,0,-1,0,-2,2], target = 0)"
   ]
  },
  {
   "cell_type": "markdown",
   "id": "1e83bf85-519c-4178-bc9c-a7fb813c53a5",
   "metadata": {},
   "source": [
    "<aside>\n",
    "💡 **Question 3**\n",
    "A permutation of an array of integers is an arrangement of its members into a\n",
    "sequence or linear order.\n",
    "\n",
    "For example, for arr = [1,2,3], the following are all the permutations of arr:\n",
    "[1,2,3], [1,3,2], [2, 1, 3], [2, 3, 1], [3,1,2], [3,2,1].\n",
    "\n",
    "The next permutation of an array of integers is the next lexicographically greater\n",
    "permutation of its integer. More formally, if all the permutations of the array are\n",
    "sorted in one container according to their lexicographical order, then the next\n",
    "permutation of that array is the permutation that follows it in the sorted container.\n",
    "\n",
    "If such an arrangement is not possible, the array must be rearranged as the\n",
    "lowest possible order (i.e., sorted in ascending order).\n",
    "\n",
    "● For example, the next permutation of arr = [1,2,3] is [1,3,2].\n",
    "● Similarly, the next permutation of arr = [2,3,1] is [3,1,2].\n",
    "● While the next permutation of arr = [3,2,1] is [1,2,3] because [3,2,1] does not\n",
    "have a lexicographical larger rearrangement.\n",
    "\n",
    "Given an array of integers nums, find the next permutation of nums.\n",
    "The replacement must be in place and use only constant extra memory.\n",
    "\n",
    "**Example 1:**\n",
    "Input: nums = [1,2,3]\n",
    "Output: [1,3,2]\n",
    "\n",
    "</aside>"
   ]
  },
  {
   "cell_type": "code",
   "execution_count": null,
   "id": "bcf23ef8-3513-4cfb-a79c-b6d907347169",
   "metadata": {},
   "outputs": [],
   "source": [
    "def nextPermutation(s):\n",
    "\n",
    "    i = len(s) - 2\n",
    "    while i >= 0 and s[i + 1] <= s[i]:\n",
    "        i -= 1\n",
    "    if i >= 0:\n",
    "        j = len(s) - 1\n",
    "        while s[j] <= s[i]:\n",
    "            j -= 1\n",
    "        (s[i], s[j]) = (s[j], s[i])\n",
    "    s[::] = s[:i + 1] + s[i + 1:][::-1]\n",
    "    return s"
   ]
  },
  {
   "cell_type": "code",
   "execution_count": null,
   "id": "088f0274-5c81-43ed-89af-f061d74be36f",
   "metadata": {},
   "outputs": [],
   "source": [
    "nextPermutation(s = [1,2,3])"
   ]
  },
  {
   "cell_type": "markdown",
   "id": "4666852c-a024-4d9e-9f72-d0692ad0c92e",
   "metadata": {},
   "source": [
    "Question 4\n",
    "Given a sorted array of distinct integers and a target value, return the index if the\n",
    "target is found. If not, return the index where it would be if it were inserted in\n",
    "order.\n",
    "\n",
    "You must write an algorithm with O(log n) runtime complexity.\n",
    "\n",
    "Example 1:\n",
    "Input: nums = [1,3,5,6], target = 5\n",
    "Output: 2"
   ]
  },
  {
   "cell_type": "code",
   "execution_count": null,
   "id": "f5a4e7d8-3da9-4fac-981b-d89ddd640104",
   "metadata": {},
   "outputs": [],
   "source": [
    "def searchInsert(nums, target):\n",
    "    end = len(nums)-1\n",
    "    start = 0\n",
    "    if(target<nums[0]):\n",
    "        return 0\n",
    "    elif(target>nums[-1]):\n",
    "        return len(nums)\n",
    "    else:\n",
    "        while(start<=end):\n",
    "            mid = (start+end)//2\n",
    "            if(nums[mid]>target):\n",
    "                end = end-1\n",
    "            elif(nums[mid]<target):\n",
    "                start=start+1\n",
    "            elif(nums[mid]==target):\n",
    "                return mid\n",
    "        \n",
    "        \n",
    "        return mid"
   ]
  },
  {
   "cell_type": "code",
   "execution_count": null,
   "id": "539f798d-c6fb-406e-a36a-51b3b6caed2d",
   "metadata": {},
   "outputs": [],
   "source": [
    "searchInsert(nums = [1,3,5,6], target = 5 )"
   ]
  },
  {
   "cell_type": "markdown",
   "id": "f9755f65-48c4-4c18-a411-57aa2593add5",
   "metadata": {},
   "source": [
    "<aside>\n",
    "💡 **Question 5**\n",
    "You are given a large integer represented as an integer array digits, where each\n",
    "digits[i] is the ith digit of the integer. The digits are ordered from most significant\n",
    "to least significant in left-to-right order. The large integer does not contain any\n",
    "leading 0's.\n",
    "\n",
    "Increment the large integer by one and return the resulting array of digits.\n",
    "\n",
    "**Example 1:**\n",
    "Input: digits = [1,2,3]\n",
    "Output: [1,2,4]\n",
    "\n",
    "**Explanation:** The array represents the integer 123.\n",
    "Incrementing by one gives 123 + 1 = 124.\n",
    "Thus, the result should be [1,2,4].\n",
    "\n",
    "</aside>"
   ]
  },
  {
   "cell_type": "code",
   "execution_count": null,
   "id": "36ebec2e-b0b8-4152-8d1b-44c735ac6b8a",
   "metadata": {},
   "outputs": [],
   "source": [
    "def plusOne(digits):\n",
    "    n = len(digits)\n",
    "    for i in range(n-1,-1,-1):\n",
    "        if(digits[i]==9 and i!=0):\n",
    "            digits[i]=0\n",
    "        elif(digits[i]==9 and i==0):\n",
    "            digits[i]=0\n",
    "            digits.insert(0,1)\n",
    "            return digits\n",
    "        else:\n",
    "            digits[i]+=1\n",
    "            return digits"
   ]
  },
  {
   "cell_type": "code",
   "execution_count": null,
   "id": "af4ef8fe-508a-4e17-b638-1354c19871a2",
   "metadata": {},
   "outputs": [],
   "source": [
    "plusOne(digits = [1,2,3])"
   ]
  },
  {
   "cell_type": "markdown",
   "id": "f8adaa56-c990-4106-aabc-ec0a609dc7b1",
   "metadata": {},
   "source": [
    "Question 6\n",
    "Given a non-empty array of integers nums, every element appears twice except\n",
    "for one. Find that single one.\n",
    "\n",
    "You must implement a solution with a linear runtime complexity and use only\n",
    "constant extra space.\n",
    "\n",
    "Example 1:\n",
    "Input: nums = [2,2,1]\n",
    "Output: 1"
   ]
  },
  {
   "cell_type": "code",
   "execution_count": null,
   "id": "aca12174-ab2d-4ffb-a05d-53c6b503fe43",
   "metadata": {},
   "outputs": [],
   "source": [
    "def singleNumber(nums):\n",
    "    hashmap = {}\n",
    "    for i in range(len(nums)):\n",
    "        if(nums[i] not in hashmap):\n",
    "            hashmap[nums[i]]=1\n",
    "        else:\n",
    "            hashmap.pop(nums[i])\n",
    "    return list(hashmap.keys())[0]\n",
    "        "
   ]
  },
  {
   "cell_type": "code",
   "execution_count": null,
   "id": "06c2977d-bc84-4b51-9143-d526aee279ce",
   "metadata": {},
   "outputs": [],
   "source": [
    "singleNumber([2,2,1])"
   ]
  },
  {
   "cell_type": "markdown",
   "id": "d8a38cf6-5d95-4325-a6a7-552897595e9a",
   "metadata": {},
   "source": [
    "Question 7\n",
    "You are given an inclusive range [lower, upper] and a sorted unique integer array\n",
    "nums, where all elements are within the inclusive range.\n",
    "\n",
    "A number x is considered missing if x is in the range [lower, upper] and x is not in\n",
    "nums.\n",
    "\n",
    "Return the shortest sorted list of ranges that exactly covers all the missing\n",
    "numbers. That is, no element of nums is included in any of the ranges, and each\n",
    "missing number is covered by one of the ranges.\n",
    "\n",
    "Example 1:\n",
    "Input: nums = [0,1,3,50,75], lower = 0, upper = 99\n",
    "Output: [[2,2],[4,49],[51,74],[76,99]]\n",
    "\n",
    "Explanation: The ranges are:\n",
    "[2,2]\n",
    "[4,49]\n",
    "[51,74]\n",
    "[76,99]"
   ]
  },
  {
   "cell_type": "code",
   "execution_count": 66,
   "id": "ae3fff0a-34c8-4508-8661-dca1e125da4f",
   "metadata": {},
   "outputs": [],
   "source": [
    "def misrange(nums,low,high):\n",
    "    res = []\n",
    "    nums.insert(0,low)\n",
    "    nums.insert(len(nums),high)\n",
    "        \n",
    "    for i in range(len(nums)-1):\n",
    "        if(nums[i]==nums[i+1] or nums[i]+1==nums[i+1]):\n",
    "            continue\n",
    "        else:\n",
    "            if(i>0 and i!=len(nums)-2):\n",
    "                res.append([nums[i]+1,nums[i+1]-1])\n",
    "            elif(i==0):\n",
    "                res.append([low,nums[i+1]-1])\n",
    "            else:\n",
    "                res.append([nums[i]+1,nums[i+1]])\n",
    "    return res\n"
   ]
  },
  {
   "cell_type": "code",
   "execution_count": 67,
   "id": "650a42d2-be21-4319-afbc-8a4dcde558cf",
   "metadata": {},
   "outputs": [
    {
     "name": "stdout",
     "output_type": "stream",
     "text": [
      "[[2, 2], [4, 49], [51, 74], [76, 99]]\n",
      "[[0, 1], [4, 49], [51, 74], [76, 99]]\n"
     ]
    }
   ],
   "source": [
    "print(misrange([0,1,3,50,75], 0, 99 ))\n",
    "print(misrange([2,3,50,75], 0, 99 ))"
   ]
  },
  {
   "cell_type": "markdown",
   "id": "008a0c4c-32f7-488c-bf8c-cb59ea297322",
   "metadata": {},
   "source": [
    "Question 8\n",
    "Given an array of meeting time intervals where intervals[i] = [starti, endi],\n",
    "determine if a person could attend all meetings.\n",
    "\n",
    "Example 1:\n",
    "Input: intervals = [[0,30],[5,10],[15,20]]\n",
    "Output: false"
   ]
  },
  {
   "cell_type": "code",
   "execution_count": null,
   "id": "271f5f0e-8958-4bbf-99f6-695c83c4d0f4",
   "metadata": {},
   "outputs": [],
   "source": [
    "def meeting(arr):\n",
    "    arr = sorted(arr)\n",
    "    for i in range(len(arr)-1):\n",
    "        if((arr[i][0]<arr[i+1][0] < arr[i][1]) == True):\n",
    "            return False\n",
    "        else:\n",
    "            continue\n",
    "    return True"
   ]
  },
  {
   "cell_type": "code",
   "execution_count": null,
   "id": "b954a464-9a6c-4fc3-8736-f2e12ecaf555",
   "metadata": {},
   "outputs": [],
   "source": [
    "print(meeting([[0,30],[5,10],[15,20]]))\n",
    "print(meeting([[0,30],[30,40],[15,20]]))\n",
    "print(meeting([[15,30],[5,15],[0,5]]))"
   ]
  },
  {
   "cell_type": "code",
   "execution_count": null,
   "id": "69ca7042-aabc-4b1b-bedc-4848059e2b7c",
   "metadata": {},
   "outputs": [],
   "source": []
  }
 ],
 "metadata": {
  "kernelspec": {
   "display_name": "Python 3 (ipykernel)",
   "language": "python",
   "name": "python3"
  },
  "language_info": {
   "codemirror_mode": {
    "name": "ipython",
    "version": 3
   },
   "file_extension": ".py",
   "mimetype": "text/x-python",
   "name": "python",
   "nbconvert_exporter": "python",
   "pygments_lexer": "ipython3",
   "version": "3.10.6"
  }
 },
 "nbformat": 4,
 "nbformat_minor": 5
}

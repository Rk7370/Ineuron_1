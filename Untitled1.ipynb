{
 "cells": [
  {
   "cell_type": "markdown",
   "id": "a6a2bcd1-c25c-4b3e-9748-fc5398fc02bf",
   "metadata": {},
   "source": [
    "<aside>\n",
    "💡 **Q1.** Given an array of integers nums and an integer target, return indices of the two numbers such that they add up to target.\n",
    "\n",
    "You may assume that each input would have exactly one solution, and you may not use the same element twice.\n",
    "\n",
    "You can return the answer in any order.\n",
    "\n",
    "**Example:**\n",
    "Input: nums = [2,7,11,15], target = 9\n",
    "Output0 [0,1]\n",
    "\n",
    "**Explanation:** Because nums[0] + nums[1] == 9, we return [0, 1][\n",
    "\n",
    "</aside>"
   ]
  },
  {
   "cell_type": "code",
   "execution_count": 17,
   "id": "dcf953b8-c8ce-41d2-85e5-773d78d18458",
   "metadata": {},
   "outputs": [],
   "source": [
    "def twoSum(numbers, target):\n",
    "    l = 0\n",
    "    r = len(numbers)-1\n",
    "\n",
    "    while(l<r):\n",
    "        if(numbers[l]+numbers[r]>target):\n",
    "            r = r-1\n",
    "        elif(numbers[l]+numbers[r]<target):\n",
    "            l = l+1\n",
    "        else:\n",
    "            return [l,r]"
   ]
  },
  {
   "cell_type": "code",
   "execution_count": 18,
   "id": "da2c0b6e-2dbf-47c2-8f12-94c9ac6f6fba",
   "metadata": {},
   "outputs": [
    {
     "data": {
      "text/plain": [
       "[0, 1]"
      ]
     },
     "execution_count": 18,
     "metadata": {},
     "output_type": "execute_result"
    }
   ],
   "source": [
    "twoSum([2,7,11,15],9)"
   ]
  },
  {
   "cell_type": "code",
   "execution_count": null,
   "id": "ec906611-31ba-4fbb-a66f-6d4f3561bd67",
   "metadata": {},
   "outputs": [],
   "source": []
  },
  {
   "cell_type": "markdown",
   "id": "803090d0-d4c3-4abb-bf32-fea84cd60824",
   "metadata": {},
   "source": [
    "<aside>\n",
    "💡 **Q2.** Given an integer array nums and an integer val, remove all occurrences of val in nums in-place. The order of the elements may be changed. Then return the number of elements in nums which are not equal to val.\n",
    "\n",
    "Consider the number of elements in nums which are not equal to val be k, to get accepted, you need to do the following things:\n",
    "\n",
    "- Change the array nums such that the first k elements of nums contain the elements which are not equal to val. The remaining elements of nums are not important as well as the size of nums.\n",
    "- Return k.\n",
    "\n",
    "**Example :**\n",
    "Input: nums = [3,2,2,3], val = 3\n",
    "Output: 2, nums = [2,2,_*,_*]\n",
    "\n",
    "**Explanation:** Your function should return k = 2, with the first two elements of nums being 2. It does not matter what you leave beyond the returned k (hence they are underscores)[\n",
    "\n",
    "</aside>"
   ]
  },
  {
   "cell_type": "code",
   "execution_count": 19,
   "id": "a2bba952-b2e0-480c-a8e4-beffea556bc2",
   "metadata": {},
   "outputs": [],
   "source": [
    "def remove_val(arr,val):\n",
    "    res = [i for i in arr if(i!=val)]\n",
    "    length = len(res)\n",
    "    return length,res"
   ]
  },
  {
   "cell_type": "code",
   "execution_count": 20,
   "id": "fea74607-90b6-482a-922e-61cb7b7de20c",
   "metadata": {},
   "outputs": [
    {
     "name": "stdout",
     "output_type": "stream",
     "text": [
      "length = 2 \n",
      "new_array = [2, 2]\n"
     ]
    }
   ],
   "source": [
    "length,res = remove_val([3,2,2,3],3)\n",
    "print(\"length =\",length, \"\\nnew_array =\",res)"
   ]
  },
  {
   "cell_type": "code",
   "execution_count": null,
   "id": "4db6e932-72dd-4d8d-8d93-9d09b69d5900",
   "metadata": {},
   "outputs": [],
   "source": []
  },
  {
   "cell_type": "code",
   "execution_count": null,
   "id": "fe0fb6fe-b596-4e35-b0f3-bb09aadbacc6",
   "metadata": {},
   "outputs": [],
   "source": []
  },
  {
   "cell_type": "markdown",
   "id": "411ede23-fda7-46a9-a2e7-1ff387942b01",
   "metadata": {},
   "source": [
    "<aside>\n",
    "💡 Q3 Given a sorted array of distinct integers and a target value, return the index if the target is found. If not, return the index where it would be if it were inserted in order.\n",
    "\n",
    "You must write an algorithm with O(log n) runtime complexity.\n",
    "\n",
    "**Example 1:**\n",
    "Input: nums = [1,3,5,6], target = 5\n",
    "\n",
    "Output: 2\n",
    "\n",
    "</aside>"
   ]
  },
  {
   "cell_type": "code",
   "execution_count": 21,
   "id": "3c13f63b-a6b8-4d28-ba66-91f23fdd7cdb",
   "metadata": {},
   "outputs": [],
   "source": [
    "def binary_search(arr,target):\n",
    "    low = 0\n",
    "    high = len(arr)-1\n",
    "    if(target>arr[high]):\n",
    "        return len(arr)\n",
    "    elif(target<arr[low]):\n",
    "        return 0\n",
    "    else:\n",
    "        while(low<=high):\n",
    "            mid = (low+high)//2\n",
    "            \n",
    "            if(target>arr[mid]):\n",
    "                low = low + 1\n",
    "            \n",
    "            elif(target<arr[mid]):\n",
    "                high = high - 1\n",
    "            else:\n",
    "                return mid\n",
    "                \n",
    "        return mid"
   ]
  },
  {
   "cell_type": "code",
   "execution_count": 22,
   "id": "d68c6767-43df-4479-87cc-ab83ef0e0fcc",
   "metadata": {},
   "outputs": [
    {
     "name": "stdout",
     "output_type": "stream",
     "text": [
      "2\n",
      "7\n"
     ]
    }
   ],
   "source": [
    "print(binary_search([1,3,5,6],4))\n",
    "print(binary_search([1,3,5,6,7,8,10],11))"
   ]
  },
  {
   "cell_type": "code",
   "execution_count": null,
   "id": "e21d4ea3-183c-4fa5-b700-12f870dcba24",
   "metadata": {},
   "outputs": [],
   "source": []
  },
  {
   "cell_type": "code",
   "execution_count": null,
   "id": "e1a2e89d-74c0-4f08-a77e-bc513cbf344c",
   "metadata": {},
   "outputs": [],
   "source": []
  },
  {
   "cell_type": "markdown",
   "id": "ed84a4a6-8c04-4252-861c-322c9c375373",
   "metadata": {},
   "source": [
    "<aside>\n",
    "💡 **Q4.** You are given a large integer represented as an integer array digits, where each digits[i] is the ith digit of the integer. The digits are ordered from most significant to least significant in left-to-right order. The large integer does not contain any leading 0's.\n",
    "\n",
    "Increment the large integer by one and return the resulting array of digits.\n",
    "\n",
    "**Example 1:**\n",
    "Input: digits = [1,2,3]\n",
    "Output: [1,2,4]\n",
    "\n",
    "**Explanation:** The array represents the integer 123.\n",
    "\n",
    "Incrementing by one gives 123 + 1 = 124.\n",
    "Thus, the result should be [1,2,4].\n",
    "\n",
    "</aside>"
   ]
  },
  {
   "cell_type": "code",
   "execution_count": 23,
   "id": "1a7a3e52-17a7-45bb-aaf3-22a8b6b5de71",
   "metadata": {},
   "outputs": [],
   "source": [
    "def increment(arr):\n",
    "    res = 0\n",
    "    j = 0\n",
    "    for i in range(len(arr)-1,-1,-1):\n",
    "        res = res + (arr[i]*10**j)\n",
    "        j = j+1\n",
    "    return res+1"
   ]
  },
  {
   "cell_type": "code",
   "execution_count": 24,
   "id": "398dfbe2-bf54-4045-a0fa-202e94dbf30e",
   "metadata": {},
   "outputs": [
    {
     "data": {
      "text/plain": [
       "123460"
      ]
     },
     "execution_count": 24,
     "metadata": {},
     "output_type": "execute_result"
    }
   ],
   "source": [
    "increment([1,2,3,4,5,9])"
   ]
  },
  {
   "cell_type": "code",
   "execution_count": null,
   "id": "52ca66d4-222c-477a-9514-09ba917acaa7",
   "metadata": {},
   "outputs": [],
   "source": []
  },
  {
   "cell_type": "code",
   "execution_count": null,
   "id": "cbbb82c3-3a7a-4866-bdfa-e676806e1ad8",
   "metadata": {},
   "outputs": [],
   "source": []
  },
  {
   "cell_type": "markdown",
   "id": "3f74179d-80f3-423d-af15-f06c53acd546",
   "metadata": {},
   "source": [
    "<aside>\n",
    "💡 **Q5.** You are given two integer arrays nums1 and nums2, sorted in non-decreasing order, and two integers m and n, representing the number of elements in nums1 and nums2 respectively.\n",
    "\n",
    "Merge nums1 and nums2 into a single array sorted in non-decreasing order.\n",
    "\n",
    "The final sorted array should not be returned by the function, but instead be stored inside the array nums1. To accommodate this, nums1 has a length of m + n, where the first m elements denote the elements that should be merged, and the last n elements are set to 0 and should be ignored. nums2 has a length of n.\n",
    "\n",
    "**Example 1:**\n",
    "Input: nums1 = [1,2,3,0,0,0], m = 3, nums2 = [2,5,6], n = 3\n",
    "Output: [1,2,2,3,5,6]\n",
    "\n",
    "**Explanation:** The arrays we are merging are [1,2,3] and [2,5,6].\n",
    "The result of the merge is [1,2,2,3,5,6] with the underlined elements coming from nums1.\n",
    "\n",
    "</aside>"
   ]
  },
  {
   "cell_type": "code",
   "execution_count": 25,
   "id": "bd9c2dc7-1003-46a5-84e2-0f2a5b841aa2",
   "metadata": {},
   "outputs": [],
   "source": [
    "def merge_arr(nums1,nums2,m,n):\n",
    "    nums1 = nums1[0:m]+nums2\n",
    "    nums1.sort()\n",
    "    return nums1"
   ]
  },
  {
   "cell_type": "code",
   "execution_count": 26,
   "id": "d70b6a16-76c3-47de-ad2f-ee597931170d",
   "metadata": {},
   "outputs": [
    {
     "data": {
      "text/plain": [
       "[1, 2, 2, 3, 5, 6]"
      ]
     },
     "execution_count": 26,
     "metadata": {},
     "output_type": "execute_result"
    }
   ],
   "source": [
    "merge_arr(nums1 = [1,2,3,0,0,0], m = 3, nums2 = [2,5,6], n = 3)"
   ]
  },
  {
   "cell_type": "code",
   "execution_count": null,
   "id": "3c103525-2bdf-4517-acb2-8b9e1a5791fa",
   "metadata": {},
   "outputs": [],
   "source": []
  },
  {
   "cell_type": "code",
   "execution_count": null,
   "id": "2284ec11-a9cd-410b-9320-84135b448c28",
   "metadata": {},
   "outputs": [],
   "source": []
  },
  {
   "cell_type": "markdown",
   "id": "630cd38a-dc72-4e20-8869-91577e25d563",
   "metadata": {},
   "source": [
    "<aside>\n",
    "💡 **Q6.** Given an integer array nums, return true if any value appears at least twice in the array, and return false if every element is distinct.\n",
    "\n",
    "**Example 1:**\n",
    "Input: nums = [1,2,3,1]\n",
    "\n",
    "Output: true\n",
    "\n",
    "</aside>"
   ]
  },
  {
   "cell_type": "code",
   "execution_count": 27,
   "id": "acf68b71-bd4f-4029-9b84-37f387ccd6c7",
   "metadata": {},
   "outputs": [],
   "source": [
    "def distinct(arr):\n",
    "    for i in arr:\n",
    "        if(arr.count(i)>1):\n",
    "            return True\n",
    "        else:\n",
    "            continue\n",
    "    return False"
   ]
  },
  {
   "cell_type": "code",
   "execution_count": 28,
   "id": "7ada459a-d839-4207-aa9a-570322041030",
   "metadata": {},
   "outputs": [
    {
     "data": {
      "text/plain": [
       "True"
      ]
     },
     "execution_count": 28,
     "metadata": {},
     "output_type": "execute_result"
    }
   ],
   "source": [
    "distinct([1,2,3,1])"
   ]
  },
  {
   "cell_type": "code",
   "execution_count": null,
   "id": "9ec80fa7-1a60-485e-88cc-5dd55e308e01",
   "metadata": {},
   "outputs": [],
   "source": []
  },
  {
   "cell_type": "code",
   "execution_count": null,
   "id": "711dda25-c81c-4b1d-82fe-8a835b7383d4",
   "metadata": {},
   "outputs": [],
   "source": []
  },
  {
   "cell_type": "markdown",
   "id": "e27b9bae-e4eb-466e-a3be-26837e1c1aab",
   "metadata": {},
   "source": [
    "<aside>\n",
    "💡 **Q7.** Given an integer array nums, move all 0's to the end of it while maintaining the relative order of the nonzero elements.\n",
    "\n",
    "Note that you must do this in-place without making a copy of the array.\n",
    "\n",
    "**Example 1:**\n",
    "Input: nums = [0,1,0,3,12]\n",
    "Output: [1,3,12,0,0]\n",
    "\n",
    "</aside>"
   ]
  },
  {
   "cell_type": "code",
   "execution_count": 29,
   "id": "fef17a57-4934-4eec-9763-394be0d6dc74",
   "metadata": {},
   "outputs": [],
   "source": [
    "def nonzero(nums):\n",
    "    n = len(nums)\n",
    "    k = 0\n",
    "    nums.sort()\n",
    "    for i in range(n):\n",
    "        if(nums[i]!=0):\n",
    "            break\n",
    "        else:\n",
    "            k = k+1\n",
    "    return nums[k::]+nums[0:k]       "
   ]
  },
  {
   "cell_type": "code",
   "execution_count": 30,
   "id": "68275f4e-5c72-423a-8755-dbb68f861e8a",
   "metadata": {},
   "outputs": [
    {
     "data": {
      "text/plain": [
       "[1, 3, 12, 0, 0, 0]"
      ]
     },
     "execution_count": 30,
     "metadata": {},
     "output_type": "execute_result"
    }
   ],
   "source": [
    "nonzero([0,1,0,3,12,0])"
   ]
  },
  {
   "cell_type": "code",
   "execution_count": null,
   "id": "91a2c13a-5bd6-4e04-980a-5c14509c9227",
   "metadata": {},
   "outputs": [],
   "source": []
  },
  {
   "cell_type": "code",
   "execution_count": null,
   "id": "50928717-e84d-4c79-a783-43419fe7f3d7",
   "metadata": {},
   "outputs": [],
   "source": []
  },
  {
   "cell_type": "markdown",
   "id": "ba6e1880-1ae9-4c48-99b8-0cdfaa97cbcf",
   "metadata": {},
   "source": [
    "<aside>\n",
    "💡 **Q8.** You have a set of integers s, which originally contains all the numbers from 1 to n. Unfortunately, due to some error, one of the numbers in s got duplicated to another number in the set, which results in repetition of one number and loss of another number.\n",
    "\n",
    "You are given an integer array nums representing the data status of this set after the error.\n",
    "\n",
    "Find the number that occurs twice and the number that is missing and return them in the form of an array.\n",
    "\n",
    "**Example 1:**\n",
    "Input: nums = [1,2,2,4]\n",
    "Output: [2,3]\n",
    "\n",
    "</aside>"
   ]
  },
  {
   "cell_type": "code",
   "execution_count": 31,
   "id": "aee21f55-50e2-41a5-8341-9eaa1089555e",
   "metadata": {},
   "outputs": [],
   "source": [
    "def repeat(nums):\n",
    "    for i in range(len(nums)):\n",
    "        if(nums[i]!=i+1):\n",
    "            return [nums[i],i+1]\n",
    "    return \"No Repeat\""
   ]
  },
  {
   "cell_type": "code",
   "execution_count": 32,
   "id": "43b3a037-f746-42d4-8aab-511cd7328ac7",
   "metadata": {},
   "outputs": [
    {
     "data": {
      "text/plain": [
       "[2, 3]"
      ]
     },
     "execution_count": 32,
     "metadata": {},
     "output_type": "execute_result"
    }
   ],
   "source": [
    "repeat([1,2,2,4])"
   ]
  }
 ],
 "metadata": {
  "kernelspec": {
   "display_name": "Python 3 (ipykernel)",
   "language": "python",
   "name": "python3"
  },
  "language_info": {
   "codemirror_mode": {
    "name": "ipython",
    "version": 3
   },
   "file_extension": ".py",
   "mimetype": "text/x-python",
   "name": "python",
   "nbconvert_exporter": "python",
   "pygments_lexer": "ipython3",
   "version": "3.10.6"
  }
 },
 "nbformat": 4,
 "nbformat_minor": 5
}

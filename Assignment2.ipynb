{
 "cells": [
  {
   "cell_type": "markdown",
   "id": "9de38235-ac88-49b9-b4be-de13adfc73c6",
   "metadata": {},
   "source": [
    "<aside>\n",
    "💡 **Question 1**\n",
    "Given an integer array nums of 2n integers, group these integers into n pairs (a1, b1), (a2, b2),..., (an, bn) such that the sum of min(ai, bi) for all i is maximized. Return the maximized sum.\n",
    "\n",
    "**Example 1:**\n",
    "Input: nums = [1,4,3,2]\n",
    "Output: 4\n",
    "\n",
    "**Explanation:** All possible pairings (ignoring the ordering of elements) are:\n",
    "\n",
    "1. (1, 4), (2, 3) -> min(1, 4) + min(2, 3) = 1 + 2 = 3\n",
    "2. (1, 3), (2, 4) -> min(1, 3) + min(2, 4) = 1 + 2 = 3\n",
    "3. (1, 2), (3, 4) -> min(1, 2) + min(3, 4) = 1 + 3 = 4\n",
    "So the maximum possible sum is 4\n",
    "</aside>"
   ]
  },
  {
   "cell_type": "code",
   "execution_count": 1,
   "id": "3480889a-fad1-4e53-9e9a-cd6901bb5a60",
   "metadata": {},
   "outputs": [],
   "source": [
    "def arrayPairSum(nums):\n",
    "    nums.sort()\n",
    "    a = sum(nums[0::2])\n",
    "    return a"
   ]
  },
  {
   "cell_type": "code",
   "execution_count": 2,
   "id": "5e5a416f-6acf-4686-917f-a89bdd12632a",
   "metadata": {},
   "outputs": [
    {
     "data": {
      "text/plain": [
       "4"
      ]
     },
     "execution_count": 2,
     "metadata": {},
     "output_type": "execute_result"
    }
   ],
   "source": [
    "arrayPairSum([1,4,3,2])"
   ]
  },
  {
   "cell_type": "markdown",
   "id": "57fbcaa2-18fc-4160-877c-7d7d335e7639",
   "metadata": {},
   "source": [
    "Question 2\n",
    "Alice has n candies, where the ith candy is of type candyType[i]. Alice noticed that she started to gain weight, so she visited a doctor. \n",
    "\n",
    "The doctor advised Alice to only eat n / 2 of the candies she has (n is always even). Alice likes her candies very much, and she wants to eat the maximum number of different types of candies while still following the doctor's advice. \n",
    "\n",
    "Given the integer array candyType of length n, return the maximum number of different types of candies she can eat if she only eats n / 2 of them.\n",
    "\n",
    "Example 1:\n",
    "Input: candyType = [1,1,2,2,3,3]\n",
    "Output: 3\n",
    "\n",
    "Explanation: Alice can only eat 6 / 2 = 3 candies. Since there are only 3 types, she can eat one of each type."
   ]
  },
  {
   "cell_type": "code",
   "execution_count": 3,
   "id": "fbde8c58-95d1-498b-8b02-67020c1df617",
   "metadata": {},
   "outputs": [],
   "source": [
    "def distributeCandies(candyType):\n",
    "    candy_set = len(set(candyType))\n",
    "    if(candy_set>len(candyType)//2):\n",
    "        return len(candyType)//2\n",
    "    else:\n",
    "        return candy_set"
   ]
  },
  {
   "cell_type": "code",
   "execution_count": 4,
   "id": "b80d3a2b-7236-4241-806b-24b38eb50e1d",
   "metadata": {},
   "outputs": [
    {
     "data": {
      "text/plain": [
       "3"
      ]
     },
     "execution_count": 4,
     "metadata": {},
     "output_type": "execute_result"
    }
   ],
   "source": [
    "distributeCandies([1,1,2,2,3,3])"
   ]
  },
  {
   "cell_type": "markdown",
   "id": "7d64681e-4088-4605-accd-1d3d96bf6b5d",
   "metadata": {},
   "source": [
    "Question 3\n",
    "We define a harmonious array as an array where the difference between its maximum value\n",
    "and its minimum value is exactly 1.\n",
    "\n",
    "Given an integer array nums, return the length of its longest harmonious subsequence\n",
    "among all its possible subsequences.\n",
    "\n",
    "A subsequence of an array is a sequence that can be derived from the array by deleting some or no elements without changing the order of the remaining elements.\n",
    "\n",
    "Example 1:\n",
    "Input: nums = [1,3,2,2,5,2,3,7]\n",
    "Output: 5\n",
    "\n",
    "Explanation: The longest harmonious subsequence is [3,2,2,2,3]."
   ]
  },
  {
   "cell_type": "code",
   "execution_count": 5,
   "id": "bde81489-5931-4b20-b726-0d142ac176ce",
   "metadata": {},
   "outputs": [],
   "source": [
    "def findLHS(nums):\n",
    "    hashmap= {}\n",
    "    res = 0\n",
    "    for i in range(len(nums)):\n",
    "        if(nums[i] not in hashmap):\n",
    "            hashmap[nums[i]]=1\n",
    "        else:\n",
    "            hashmap[nums[i]] += 1\n",
    "        \n",
    "    for i in hashmap.keys():\n",
    "        if(i+1 in hashmap):\n",
    "            ans = hashmap[i]+hashmap[i+1]\n",
    "            if(ans>res):\n",
    "                res = ans\n",
    "    return res"
   ]
  },
  {
   "cell_type": "code",
   "execution_count": 6,
   "id": "45a71f92-a8dc-4459-bf9b-a8329ec3390a",
   "metadata": {},
   "outputs": [
    {
     "data": {
      "text/plain": [
       "5"
      ]
     },
     "execution_count": 6,
     "metadata": {},
     "output_type": "execute_result"
    }
   ],
   "source": [
    "findLHS([1,3,2,2,5,2,3,7])"
   ]
  },
  {
   "cell_type": "markdown",
   "id": "79b496c1-b1a2-47ec-b1ae-e868e8e45ee0",
   "metadata": {},
   "source": [
    "Question 4\n",
    "You have a long flowerbed in which some of the plots are planted, and some are not.\n",
    "However, flowers cannot be planted in adjacent plots.\n",
    "Given an integer array flowerbed containing 0's and 1's, where 0 means empty and 1 means not empty, and an integer n, return true if n new flowers can be planted in the flowerbed without violating the no-adjacent-flowers rule and false otherwise.\n",
    "\n",
    "Example 1:\n",
    "Input: flowerbed = [1,0,0,0,1], n = 1\n",
    "Output: true"
   ]
  },
  {
   "cell_type": "code",
   "execution_count": 7,
   "id": "3eb2856c-56f0-496a-9664-a13bcb75ba72",
   "metadata": {},
   "outputs": [],
   "source": [
    "def canPlaceFlowers(flowerbed, n) :\n",
    "    l = len(flowerbed)\n",
    "    res = 0\n",
    "    for i in range(l):\n",
    "        prev = 0 if(i==0) else flowerbed[i-1]\n",
    "        after = 0 if(i==(l-1)) else flowerbed[i+1]   \n",
    "        if(flowerbed[i]==0 and prev==0 and after==0):\n",
    "            res = res+1\n",
    "            flowerbed[i]+=1\n",
    "    \n",
    "    return True if(res>=n) else False"
   ]
  },
  {
   "cell_type": "code",
   "execution_count": 8,
   "id": "74c12098-b970-49a2-9221-99b863638db0",
   "metadata": {},
   "outputs": [
    {
     "data": {
      "text/plain": [
       "True"
      ]
     },
     "execution_count": 8,
     "metadata": {},
     "output_type": "execute_result"
    }
   ],
   "source": [
    "canPlaceFlowers([1,0,0,0,1],1)"
   ]
  },
  {
   "cell_type": "markdown",
   "id": "50d2b413-d8ed-4956-bc22-b410eef51f7b",
   "metadata": {},
   "source": [
    "Question 5\n",
    "Given an integer array nums, find three numbers whose product is maximum and return the maximum product.\n",
    "\n",
    "Example 1:\n",
    "Input: nums = [1,2,3]\n",
    "Output: 6"
   ]
  },
  {
   "cell_type": "code",
   "execution_count": 9,
   "id": "1ef5536c-8c9b-4a21-be10-16c4006f0522",
   "metadata": {},
   "outputs": [],
   "source": [
    "def maximumProduct(nums):\n",
    "    def prod(a):\n",
    "        return a[0]*a[1]*a[2]\n",
    "\n",
    "    nums.sort()\n",
    "    res1 = prod(nums[0:2]+[nums[-1]])\n",
    "    res2 = prod(nums[-1:-4:-1])\n",
    "\n",
    "    return res1 if res1>res2 else res2"
   ]
  },
  {
   "cell_type": "code",
   "execution_count": 10,
   "id": "a6ce8cfe-5f12-403a-8876-4d9e6bbc39e9",
   "metadata": {},
   "outputs": [
    {
     "data": {
      "text/plain": [
       "6"
      ]
     },
     "execution_count": 10,
     "metadata": {},
     "output_type": "execute_result"
    }
   ],
   "source": [
    "maximumProduct([1,2,3])"
   ]
  },
  {
   "cell_type": "markdown",
   "id": "08cbd507-7ab5-4c19-a35e-fad0530fee88",
   "metadata": {},
   "source": [
    "Question 6\n",
    "Given an array of integers nums which is sorted in ascending order, and an integer target,\n",
    "write a function to search target in nums. If target exists, then return its index. Otherwise,\n",
    "return -1.\n",
    "\n",
    "You must write an algorithm with O(log n) runtime complexity.\n",
    "\n",
    "Input: nums = [-1,0,3,5,9,12], target = 9\n",
    "Output: 4\n",
    "\n",
    "Explanation: 9 exists in nums and its index is 4"
   ]
  },
  {
   "cell_type": "code",
   "execution_count": 11,
   "id": "ab019f92-bc75-4eeb-9c33-fdd009eb9491",
   "metadata": {},
   "outputs": [],
   "source": [
    "def search(nums,target):\n",
    "    low = 0\n",
    "    high = len(nums)-1\n",
    "\n",
    "    while(low<=high):\n",
    "        mid = (low+high)//2\n",
    "        if(target>nums[mid]):\n",
    "            low = low+1\n",
    "        elif(target<nums[mid]):\n",
    "            high = high-1\n",
    "        else:\n",
    "            return mid\n",
    "    return -1"
   ]
  },
  {
   "cell_type": "code",
   "execution_count": 12,
   "id": "6f7b6e34-0cd3-4033-9d99-59bd28d15a6d",
   "metadata": {},
   "outputs": [
    {
     "data": {
      "text/plain": [
       "4"
      ]
     },
     "execution_count": 12,
     "metadata": {},
     "output_type": "execute_result"
    }
   ],
   "source": [
    "search([-1,0,3,5,9,12],9)"
   ]
  },
  {
   "cell_type": "markdown",
   "id": "0e4d5b4e-2a34-48da-897c-3bda5059d4cf",
   "metadata": {},
   "source": [
    "Question 7\n",
    "An array is monotonic if it is either monotone increasing or monotone decreasing.\n",
    "\n",
    "An array nums is monotone increasing if for all i <= j, nums[i] <= nums[j]. An array nums is\n",
    "monotone decreasing if for all i <= j, nums[i] >= nums[j].\n",
    "\n",
    "Given an integer array nums, return true if the given array is monotonic, or false otherwise.\n",
    "\n",
    "Example 1:\n",
    "Input: nums = [1,2,2,3]\n",
    "Output: true"
   ]
  },
  {
   "cell_type": "code",
   "execution_count": 13,
   "id": "aa534951-703a-4698-96d4-4f87d90d82e2",
   "metadata": {},
   "outputs": [],
   "source": [
    "def monotonic(nums):\n",
    "    a = sorted(nums,reverse=True)\n",
    "    b = sorted(nums,reverse=False)\n",
    "    if(nums==a or nums==b):\n",
    "        return True\n",
    "    else:\n",
    "        return False"
   ]
  },
  {
   "cell_type": "code",
   "execution_count": 14,
   "id": "6381ba07-7cdb-4a50-a7b9-beead3e739dc",
   "metadata": {},
   "outputs": [
    {
     "data": {
      "text/plain": [
       "True"
      ]
     },
     "execution_count": 14,
     "metadata": {},
     "output_type": "execute_result"
    }
   ],
   "source": [
    "monotonic([1,2,2,3])"
   ]
  },
  {
   "cell_type": "markdown",
   "id": "339ad373-783c-45e1-97a3-49f6991d9b0d",
   "metadata": {},
   "source": [
    "Question 8\n",
    "You are given an integer array nums and an integer k.\n",
    "\n",
    "In one operation, you can choose any index i where 0 <= i < nums.length and change nums[i] to nums[i] + x where x is an integer from the range [-k, k]. You can apply this operation at most once for each index i.\n",
    "\n",
    "The score of nums is the difference between the maximum and minimum elements in nums.\n",
    "\n",
    "Return the minimum score of nums after applying the mentioned operation at most once for each index in it.\n",
    "\n",
    "Example 1:\n",
    "Input: nums = [1], k = 0\n",
    "Output: 0\n",
    "\n",
    "Explanation: The score is max(nums) - min(nums) = 1 - 1 = 0."
   ]
  },
  {
   "cell_type": "code",
   "execution_count": 15,
   "id": "0adfd1c9-66ba-43d8-a50a-7e2dd2da1dfa",
   "metadata": {},
   "outputs": [],
   "source": [
    "def smallestRange(nums,k):\n",
    "    max_ = max(nums)\n",
    "    min_ = min(nums)\n",
    "    \n",
    "    if(len(nums)==0):\n",
    "        return 0\n",
    "    elif(k==0):\n",
    "        return max_ - min_\n",
    "    else:\n",
    "        return max(0,max_-min_-2*k) "
   ]
  },
  {
   "cell_type": "code",
   "execution_count": 16,
   "id": "89809f2d-7859-4a04-920e-964c62021319",
   "metadata": {},
   "outputs": [
    {
     "name": "stdout",
     "output_type": "stream",
     "text": [
      "0\n",
      "0\n",
      "2\n"
     ]
    }
   ],
   "source": [
    "print(smallestRange(nums = [1], k = 0))\n",
    "print(smallestRange([1,3,6], k = 3))\n",
    "print(smallestRange([8,2], k = 2))"
   ]
  }
 ],
 "metadata": {
  "kernelspec": {
   "display_name": "Python 3 (ipykernel)",
   "language": "python",
   "name": "python3"
  },
  "language_info": {
   "codemirror_mode": {
    "name": "ipython",
    "version": 3
   },
   "file_extension": ".py",
   "mimetype": "text/x-python",
   "name": "python",
   "nbconvert_exporter": "python",
   "pygments_lexer": "ipython3",
   "version": "3.10.6"
  }
 },
 "nbformat": 4,
 "nbformat_minor": 5
}
